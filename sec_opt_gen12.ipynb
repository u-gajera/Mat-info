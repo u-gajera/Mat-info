{
 "cells": [
  {
   "cell_type": "code",
   "execution_count": null,
   "metadata": {
    "ExecuteTime": {
     "end_time": "2022-03-18T14:08:49.747748Z",
     "start_time": "2022-03-18T14:08:48.781359Z"
    }
   },
   "outputs": [],
   "source": [
    "import numpy as np\n",
    "import pandas as pd\n",
    "import re\n",
    "from collections import Counter\n",
    "import matplotlib.pylab as plt\n",
    "from sklearn.linear_model import LinearRegression\n",
    "from sklearn.metrics import mean_squared_error\n",
    "import os\n",
    "import formula_reader"
   ]
  },
  {
   "cell_type": "code",
   "execution_count": null,
   "metadata": {
    "ExecuteTime": {
     "end_time": "2022-03-18T14:08:49.759662Z",
     "start_time": "2022-03-18T14:08:49.750434Z"
    }
   },
   "outputs": [],
   "source": [
    "def cleaning_the_dataset(dataset_material):\n",
    "    for ii in dataset_material.keys():\n",
    "        if (ii.find('Unnamed') != -1):\n",
    "            del dataset_material[ii]\n",
    "        elif list(set(pd.isnull(dataset_material[ii].values)))[0]==True:\n",
    "            del dataset_material[ii]\n",
    "        else:\n",
    "            pass"
   ]
  },
  {
   "cell_type": "code",
   "execution_count": null,
   "metadata": {
    "ExecuteTime": {
     "end_time": "2022-03-18T14:08:49.885944Z",
     "start_time": "2022-03-18T14:08:49.763293Z"
    }
   },
   "outputs": [],
   "source": [
    "dataset_material = pd.read_excel('Data_Ghiringhelli.xlsx', 'Material Data')\n",
    "dataset_atomic = pd.read_excel('Data_Ghiringhelli.xlsx',   'Atomic Data')\n",
    "dataset_atomic.columns = ['Z', 'A', 'IP', 'EA', 'HOMO', 'LUMO', 'rs', 'rp', 'rd', '1D']\n",
    "dataset_test = pd.read_csv('dataset_test.csv')\n",
    "dataset_test_new = pd.read_csv('dataset_test_new.csv')"
   ]
  },
  {
   "cell_type": "code",
   "execution_count": null,
   "metadata": {
    "ExecuteTime": {
     "end_time": "2022-03-18T14:08:49.896005Z",
     "start_time": "2022-03-18T14:08:49.888561Z"
    }
   },
   "outputs": [],
   "source": [
    "cleaning_the_dataset(dataset_atomic)\n",
    "cleaning_the_dataset(dataset_material)"
   ]
  },
  {
   "cell_type": "code",
   "execution_count": null,
   "metadata": {
    "ExecuteTime": {
     "end_time": "2022-03-18T14:08:49.914447Z",
     "start_time": "2022-03-18T14:08:49.897529Z"
    }
   },
   "outputs": [],
   "source": [
    "column_name = formula_reader.columns_name(dataset_atomic_columns=dataset_atomic.keys()[2:-1], \n",
    "                           num_of_element=['A','B'])"
   ]
  },
  {
   "cell_type": "code",
   "execution_count": null,
   "metadata": {
    "ExecuteTime": {
     "end_time": "2022-03-18T14:08:49.921074Z",
     "start_time": "2022-03-18T14:08:49.916970Z"
    }
   },
   "outputs": [],
   "source": [
    "equation_list = ['(rp_B**3 - exp(rs_B))/((rp_A**2))', \n",
    "                 '(sqrt(fabs(EA_A))+sqrt(fabs(IP_B)))/((rp_A**2))']"
   ]
  },
  {
   "cell_type": "code",
   "execution_count": null,
   "metadata": {
    "ExecuteTime": {
     "end_time": "2022-03-18T14:08:49.946560Z",
     "start_time": "2022-03-18T14:08:49.923257Z"
    }
   },
   "outputs": [],
   "source": [
    "df_form = pd.read_excel('Final wrap up.xlsx', sheet_name='ZincBlend 1D')\n",
    "\n",
    "all_num,all_equations,all_avg_mse = [],[],[]\n",
    "for str_lst in df_form['OAD_gen_1 RMSE']:\n",
    "    try :\n",
    "        lindex = str_lst.index('(')\n",
    "        rindex = str_lst.rindex(')')\n",
    "        equation=str_lst[lindex:rindex+1]\n",
    "        all_equations.append(equation)\n",
    "    except:\n",
    "        pass"
   ]
  },
  {
   "cell_type": "code",
   "execution_count": null,
   "metadata": {
    "ExecuteTime": {
     "end_time": "2022-03-18T14:21:10.958700Z",
     "start_time": "2022-03-18T14:08:49.950062Z"
    }
   },
   "outputs": [],
   "source": [
    "new_equation_list, single_mse=[],[]\n",
    "coeff_list, new_single_mse   =[],[]\n",
    "max_coeff_list, max_single_mse=[],[]\n",
    "min_slops, min_intercepts = [],[]\n",
    "regression = 'On'\n",
    "rounding = 12\n",
    "target_property = 'classification_accuracy' # 'RMSE' or 'classification_accuracy'\n",
    "\n",
    "actute_species = ['RS' if i < 0 else 'ZB' for i in dataset_test.DE]\n",
    "def target_func(target_prop, pred, actu):\n",
    "    if target_prop == 'RMSE':\n",
    "        return np.round(np.sqrt(mean_squared_error(pred, \n",
    "                                 actu)),rounding)\n",
    "    \n",
    "    elif target_prop == 'classification_accuracy':\n",
    "        pred_species = ['RS' if i < 0 else 'ZB' for i in pred]\n",
    "        quant_res = ([i for i, j in zip(actute_species, pred_species) if i == j])\n",
    "        return (len(quant_res)*100/82)\n",
    "    \n",
    "    else:\n",
    "        raise Exception('Please select target_prop: \"RMSE\" or \"classification_accuracy\"')\n",
    "        \n",
    "for equation in all_equations[:10]:#+all_equations[4:7]+all_equations[8:9]:\n",
    "    slops, intercepts = [],[]\n",
    "    equation = equation.replace('HOMOKS','HOMO')\n",
    "    equation = equation.replace('LUMOKS','LUMO')\n",
    "    eq_obj = formula_reader.equation_reader(equation_string=equation, \n",
    "                                            dataset=dataset_test)\n",
    "    feature_array = np.array(eq_obj.run_equation_reader())\n",
    "    feature_array = np.reshape(feature_array,(-1,1))\n",
    "    a,b,c = eq_obj.get_individual_element()\n",
    "    formula = eq_obj.get_formula()\n",
    "    new_equation_list.append(formula)\n",
    "    actu = dataset_test['DE'].values\n",
    "\n",
    "    regressor = LinearRegression()\n",
    "    regressor.fit(feature_array, actu)\n",
    "    \n",
    "    pred = regressor.predict(np.array(feature_array))\n",
    "    single_mse.append(target_func(target_prop= target_property, \n",
    "                                                    pred=pred, actu=actu))\n",
    "    print(single_mse)\n",
    "    coeff = regressor.coef_\n",
    "    intercept = regressor.intercept_\n",
    "    \n",
    "    temp_mse, value_lst = [],[]\n",
    "    for ii in np.arange(-1.1,1.1,0.01):\n",
    "        for jj in np.arange(-1.1,1.1,0.01):\n",
    "                if np.round(ii,4)==0. or np.round(jj,4)==0.:\n",
    "                    pass\n",
    "                else:\n",
    "                    x = (np.round(ii,4)*a + np.round(jj,4)*b)/(c)\n",
    "                    if regression == 'On':\n",
    "                        regressor = LinearRegression()\n",
    "                        regressor.fit(np.array(x).reshape(-1,1), dataset_test.DE.values)\n",
    "                        pred = regressor.predict(np.array(x).reshape(-1,1))\n",
    "                        temp_mse.append(target_func(target_prop= target_property, \n",
    "                                                    pred=pred, actu=actu))\n",
    "                        value_lst.append([np.round(ii,4), np.round(jj,4)])\n",
    "                        slops.append(regressor.coef_)\n",
    "                        intercepts.append(regressor.intercept_)\n",
    "                    else:\n",
    "                        pred = (coeff*x)+intercept\n",
    "                        temp_mse.append(target_func(target_prop=target_property, \n",
    "                                                    pred=pred, actu=actu))\n",
    "                        value_lst.append([np.round(ii,4), np.round(jj,4)])\n",
    "    \n",
    "    if target_property == 'RMSE':\n",
    "        args = np.argmin(temp_mse)\n",
    "        error = min(temp_mse)\n",
    "    \n",
    "    elif target_property == 'classification_accuracy':\n",
    "        args = np.argmax(temp_mse)\n",
    "        error = max(temp_mse)\n",
    "    \n",
    "    print(value_lst[args], error)\n",
    "    diff=  [0.1,0.01,0.001,0.0001]\n",
    "    interval = [0.01,0.001,0.0001,0.00001]\n",
    "    for ll in range(len(diff)):\n",
    "        range_lst = value_lst[args]\n",
    "        for ii in (np.arange(range_lst[0]-diff[ll],\n",
    "                             range_lst[0]+diff[ll],interval[ll])):\n",
    "            for jj in (np.arange(range_lst[1]-diff[ll], \n",
    "                                 range_lst[1]+diff[ll],interval[ll])):\n",
    "                    if np.round(ii,4)==0. or np.round(jj,4)==0.:\n",
    "                        pass\n",
    "                    else:\n",
    "                        x = (np.round(ii,4)*a + np.round(jj,4)*b)/(c)\n",
    "                        if regression == 'On':\n",
    "                            regressor = LinearRegression()\n",
    "                            regressor.fit(np.array(x).reshape(-1,1), dataset_test.DE.values)\n",
    "                            pred = regressor.predict(np.array(x).reshape(-1,1))\n",
    "                            temp_mse.append(target_func(target_prop=target_property, \n",
    "                                                        pred=pred, actu=actu))\n",
    "                            value_lst.append([np.round(ii,4), np.round(jj,4)])\n",
    "                            slops.append(regressor.coef_)\n",
    "                            intercepts.append(regressor.intercept_)\n",
    "                        else:                            \n",
    "                            pred = (coeff*x)+intercept\n",
    "                            temp_mse.append(target_func(target_prop=target_property, \n",
    "                                                        pred=pred, actu=actu))\n",
    "                            value_lst.append([np.round(ii,4), np.round(jj,4)])\n",
    "        print(value_lst[args], error)    \n",
    "    \n",
    "    print('------------------------------------',len(temp_mse))\n",
    "    new_single_mse.append(error)\n",
    "    coeff_list.append(value_lst[args])\n",
    "    max_single_mse.append(error)\n",
    "    max_coeff_list.append(value_lst[args])\n",
    "    min_slops.append(slops[args])\n",
    "    min_intercepts.append(intercepts[args])"
   ]
  },
  {
   "cell_type": "code",
   "execution_count": null,
   "metadata": {
    "ExecuteTime": {
     "end_time": "2022-03-18T14:21:10.973908Z",
     "start_time": "2022-03-18T14:21:10.960431Z"
    }
   },
   "outputs": [],
   "source": [
    "df = pd.DataFrame()\n",
    "df['Equations'] = new_equation_list\n",
    "df['old_mse_for_full_dataset']=single_mse\n",
    "df['rmse_after_optimization_for_full_dataset']=new_single_mse\n",
    "df['individual_coeff'] = coeff_list\n",
    "df['slops'] = min_slops\n",
    "df['intecepts'] = min_intercepts\n",
    "#df['classification accuracy'] = temp"
   ]
  },
  {
   "cell_type": "code",
   "execution_count": null,
   "metadata": {
    "ExecuteTime": {
     "end_time": "2022-03-18T14:21:10.997672Z",
     "start_time": "2022-03-18T14:21:10.976156Z"
    }
   },
   "outputs": [],
   "source": []
  },
  {
   "cell_type": "code",
   "execution_count": null,
   "metadata": {},
   "outputs": [],
   "source": []
  }
 ],
 "metadata": {
  "kernelspec": {
   "display_name": "Python 3",
   "language": "python",
   "name": "python3"
  },
  "language_info": {
   "codemirror_mode": {
    "name": "ipython",
    "version": 3
   },
   "file_extension": ".py",
   "mimetype": "text/x-python",
   "name": "python",
   "nbconvert_exporter": "python",
   "pygments_lexer": "ipython3",
   "version": "3.7.6"
  },
  "toc": {
   "base_numbering": 1,
   "nav_menu": {},
   "number_sections": true,
   "sideBar": true,
   "skip_h1_title": false,
   "title_cell": "Table of Contents",
   "title_sidebar": "Contents",
   "toc_cell": false,
   "toc_position": {},
   "toc_section_display": true,
   "toc_window_display": false
  }
 },
 "nbformat": 4,
 "nbformat_minor": 4
}

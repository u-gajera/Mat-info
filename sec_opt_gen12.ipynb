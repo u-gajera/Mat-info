{
 "cells": [
  {
   "cell_type": "code",
   "execution_count": 1,
   "metadata": {
    "ExecuteTime": {
     "end_time": "2022-03-19T11:20:03.143522Z",
     "start_time": "2022-03-19T11:20:02.259919Z"
    }
   },
   "outputs": [
    {
     "name": "stdout",
     "output_type": "stream",
     "text": [
      "read the flow using formula_reader.standard_flow()\n"
     ]
    }
   ],
   "source": [
    "import numpy as np\n",
    "import pandas as pd\n",
    "import re\n",
    "from collections import Counter\n",
    "import matplotlib.pylab as plt\n",
    "from sklearn.linear_model import LinearRegression\n",
    "from sklearn.metrics import mean_squared_error, r2_score\n",
    "import os\n",
    "import formula_reader"
   ]
  },
  {
   "cell_type": "code",
   "execution_count": 2,
   "metadata": {
    "ExecuteTime": {
     "end_time": "2022-03-19T11:20:03.156439Z",
     "start_time": "2022-03-19T11:20:03.149816Z"
    }
   },
   "outputs": [],
   "source": [
    "def cleaning_the_dataset(dataset_material):\n",
    "    for ii in dataset_material.keys():\n",
    "        if (ii.find('Unnamed') != -1):\n",
    "            del dataset_material[ii]\n",
    "        elif list(set(pd.isnull(dataset_material[ii].values)))[0]==True:\n",
    "            del dataset_material[ii]\n",
    "        else:\n",
    "            pass"
   ]
  },
  {
   "cell_type": "code",
   "execution_count": 3,
   "metadata": {
    "ExecuteTime": {
     "end_time": "2022-03-19T11:20:03.273474Z",
     "start_time": "2022-03-19T11:20:03.159077Z"
    }
   },
   "outputs": [],
   "source": [
    "dataset_material = pd.read_excel('Data_Ghiringhelli.xlsx', 'Material Data')\n",
    "dataset_atomic = pd.read_excel('Data_Ghiringhelli.xlsx',   'Atomic Data')\n",
    "dataset_atomic.columns = ['Z', 'A', 'IP', 'EA', 'HOMO', 'LUMO', 'rs', 'rp', 'rd', '1D']\n",
    "dataset_test = pd.read_csv('dataset_test.csv')\n",
    "dataset_test_new = pd.read_csv('dataset_test_new.csv')"
   ]
  },
  {
   "cell_type": "code",
   "execution_count": 4,
   "metadata": {
    "ExecuteTime": {
     "end_time": "2022-03-19T11:20:03.283344Z",
     "start_time": "2022-03-19T11:20:03.274940Z"
    }
   },
   "outputs": [],
   "source": [
    "cleaning_the_dataset(dataset_atomic)\n",
    "cleaning_the_dataset(dataset_material)"
   ]
  },
  {
   "cell_type": "code",
   "execution_count": 5,
   "metadata": {
    "ExecuteTime": {
     "end_time": "2022-03-19T11:20:03.294788Z",
     "start_time": "2022-03-19T11:20:03.286114Z"
    }
   },
   "outputs": [],
   "source": [
    "column_name = formula_reader.columns_name(dataset_atomic_columns=dataset_atomic.keys()[2:-1], \n",
    "                           num_of_element=['A','B'])"
   ]
  },
  {
   "cell_type": "code",
   "execution_count": 6,
   "metadata": {
    "ExecuteTime": {
     "end_time": "2022-03-19T11:20:03.308746Z",
     "start_time": "2022-03-19T11:20:03.300382Z"
    }
   },
   "outputs": [],
   "source": [
    "equation_list = ['(rp_B**3 - exp(rs_B))/((rp_A**2))', \n",
    "                 '(sqrt(fabs(EA_A))+sqrt(fabs(IP_B)))/((rp_A**2))']"
   ]
  },
  {
   "cell_type": "code",
   "execution_count": 7,
   "metadata": {
    "ExecuteTime": {
     "end_time": "2022-03-19T11:20:03.330842Z",
     "start_time": "2022-03-19T11:20:03.310788Z"
    }
   },
   "outputs": [],
   "source": [
    "df_form = pd.read_excel('Final wrap up.xlsx', sheet_name='ZincBlend 1D')\n",
    "\n",
    "all_num,all_equations,all_avg_mse = [],[],[]\n",
    "for str_lst in df_form['OAD_gen_1 RMSE']:\n",
    "    try :\n",
    "        lindex = str_lst.index('(')\n",
    "        rindex = str_lst.rindex(')')\n",
    "        equation=str_lst[lindex:rindex+1]\n",
    "        all_equations.append(equation)\n",
    "    except:\n",
    "        pass"
   ]
  },
  {
   "cell_type": "code",
   "execution_count": 8,
   "metadata": {
    "ExecuteTime": {
     "end_time": "2022-03-19T11:40:54.672042Z",
     "start_time": "2022-03-19T11:20:03.335621Z"
    },
    "scrolled": true
   },
   "outputs": [
    {
     "name": "stdout",
     "output_type": "stream",
     "text": [
      "origional eqution:  ((EA_B - IP_B)/rp_A**2)\n",
      "operation list   :  [1, 1, 2, 1]\n",
      "sign list        :  ['+', '-', '+', '+']\n",
      "feature list     :  ['EA_B', 'IP_B', 'rp_A']\n",
      "rmse:  0.142252905887 r2 score:  0.886078002051067 class accuracy:  89.02439024390245\n",
      "[-0.78, 0.94] 0.142067893489 0.8864077794971026 89.02439024390245\n",
      "[-0.78, 0.94] 0.142067893489 0.8864077794971026 89.02439024390245\n",
      "[-0.78, 0.94] 0.142067893489 0.8864077794971026 89.02439024390245\n",
      "[-0.78, 0.94] 0.142067893489 0.8864077794971026 89.02439024390245\n",
      "[-0.78, 0.94] 0.142067893489 0.8864077794971026 89.02439024390245\n",
      "------------------------------------ 49663\n",
      "origional eqution:  (rp_B**3 - exp(rs_B))/((rp_A**2))\n",
      "operation list   :  [3, 'exp', 2, 1]\n",
      "sign list        :  ['+', '-', '+', '+']\n",
      "feature list     :  ['rp_B', 'rs_B', 'rp_A']\n",
      "rmse:  0.119258983423 r2 score:  0.9225522234215511 class accuracy:  91.46341463414635\n",
      "[-1.0, 1.06] 0.117948656734 0.9243727490813285 91.46341463414635\n",
      "[-1.0, 1.06] 0.117948656734 0.9243727490813285 91.46341463414635\n",
      "[-1.0, 1.06] 0.117948656734 0.9243727490813285 91.46341463414635\n",
      "[-1.0, 1.06] 0.117948656734 0.9243727490813285 91.46341463414635\n",
      "[-1.0, 1.06] 0.117948656734 0.9243727490813285 91.46341463414635\n",
      "------------------------------------ 49643\n",
      "origional eqution:  (rp_B - exp(rp_A))/((rp_A**3))\n",
      "operation list   :  [1, 'exp', 3, 1]\n",
      "sign list        :  ['+', '-', '+', '+']\n",
      "feature list     :  ['rp_B', 'rp_A', 'rp_A']\n",
      "rmse:  0.125963474183 r2 score:  0.9128190464329121 class accuracy:  90.2439024390244\n",
      "[-1.1, 1.09] 0.125962615305 0.9128203389554442 90.2439024390244\n",
      "[-1.1, 1.09] 0.125962615305 0.9128203389554442 90.2439024390244\n",
      "[-1.1, 1.09] 0.125962615305 0.9128203389554442 90.2439024390244\n",
      "[-1.1, 1.09] 0.125962615305 0.9128203389554442 90.2439024390244\n",
      "[-1.1, 1.09] 0.125962615305 0.9128203389554442 90.2439024390244\n",
      "------------------------------------ 49643\n",
      "origional eqution:  (rp_B**3 - exp(rs_B))/((rs_A**3))\n",
      "operation list   :  [3, 'exp', 3, 1]\n",
      "sign list        :  ['+', '-', '+', '+']\n",
      "feature list     :  ['rp_B', 'rs_B', 'rs_A']\n",
      "rmse:  0.126580041001 r2 score:  0.911888105166099 class accuracy:  86.58536585365853\n",
      "[-0.74, 0.78] 0.125618344272 0.9133374749649485 89.02439024390245\n",
      "[-0.74, 0.78] 0.125618344272 0.9133374749649485 89.02439024390245\n",
      "[-0.74, 0.78] 0.125618344272 0.9133374749649485 89.02439024390245\n",
      "[-0.74, 0.78] 0.125618344272 0.9133374749649485 89.02439024390245\n",
      "[-0.74, 0.78] 0.125618344272 0.9133374749649485 89.02439024390245\n",
      "------------------------------------ 49643\n",
      "origional eqution:  (sqrt(fabs(rp_B)) - exp(rp_A))/((rp_A**3))\n",
      "operation list   :  ['sqrt', 'exp', 3, 1]\n",
      "sign list        :  ['+', '-', '+', '+']\n",
      "feature list     :  ['rp_B', 'rp_A', 'rp_A']\n",
      "rmse:  0.127082659929 r2 score:  0.9111246602797805 class accuracy:  91.46341463414635\n",
      "[-1.04, 0.78] 0.114328493203 0.9292672462424527 90.2439024390244\n",
      "[-1.04, 0.78] 0.114328493203 0.9292672462424527 90.2439024390244\n",
      "[-1.04, 0.78] 0.114328493203 0.9292672462424527 90.2439024390244\n",
      "[-1.04, 0.78] 0.114328493203 0.9292672462424527 90.2439024390244\n",
      "[-1.04, 0.78] 0.114328493203 0.9292672462424527 90.2439024390244\n",
      "------------------------------------ 49642\n",
      "origional eqution:  (rs_B**2 - exp(rp_A))/((rp_A**3))\n",
      "operation list   :  [2, 'exp', 3, 1]\n",
      "sign list        :  ['+', '-', '+', '+']\n",
      "feature list     :  ['rs_B', 'rp_A', 'rp_A']\n",
      "rmse:  0.129892258105 r2 score:  0.9067810507180908 class accuracy:  91.46341463414635\n",
      "[-1.01, 0.85] 0.127906011939 0.9098651685094312 92.6829268292683\n",
      "[-1.01, 0.85] 0.127906011939 0.9098651685094312 92.6829268292683\n",
      "[-1.01, 0.85] 0.127906011939 0.9098651685094312 92.6829268292683\n",
      "[-1.01, 0.85] 0.127906011939 0.9098651685094312 92.6829268292683\n",
      "[-1.01, 0.85] 0.127906011939 0.9098651685094312 92.6829268292683\n",
      "------------------------------------ 49642\n",
      "origional eqution:  (sqrt(fabs(rd_B)) - exp(rp_A))/((rp_A**3))\n",
      "operation list   :  ['sqrt', 'exp', 3, 1]\n",
      "sign list        :  ['+', '-', '+', '+']\n",
      "feature list     :  ['rd_B', 'rp_A', 'rp_A']\n",
      "rmse:  0.129954673391 r2 score:  0.9066830809005935 class accuracy:  93.90243902439025\n",
      "[-0.63, 0.61] 0.129464977062 0.9074499966009683 93.90243902439025\n",
      "[-0.63, 0.61] 0.129464977062 0.9074499966009683 93.90243902439025\n",
      "[-0.63, 0.61] 0.129464977062 0.9074499966009683 93.90243902439025\n",
      "[-0.63, 0.61] 0.129464977062 0.9074499966009683 93.90243902439025\n",
      "[-0.63, 0.61] 0.129464977062 0.9074499966009683 93.90243902439025\n",
      "------------------------------------ 49643\n",
      "origional eqution:  (rs_B - exp(rp_A))/((rp_A**3))\n",
      "operation list   :  [1, 'exp', 3, 1]\n",
      "sign list        :  ['+', '-', '+', '+']\n",
      "feature list     :  ['rs_B', 'rp_A', 'rp_A']\n",
      "rmse:  0.130403667988 r2 score:  0.9059764121531185 class accuracy:  91.46341463414635\n",
      "[-1.03, 0.73] 0.118720920711 0.9233029701428234 90.2439024390244\n",
      "[-1.03, 0.73] 0.118720920711 0.9233029701428234 90.2439024390244\n",
      "[-1.03, 0.73] 0.118720920711 0.9233029701428234 90.2439024390244\n",
      "[-1.03, 0.73] 0.118720920711 0.9233029701428234 90.2439024390244\n",
      "[-1.03, 0.73] 0.118720920711 0.9233029701428234 90.2439024390244\n",
      "------------------------------------ 49642\n",
      "origional eqution:  (rp_B**2 - exp(rs_B))/((rp_A**2))\n",
      "operation list   :  [2, 'exp', 2, 1]\n",
      "sign list        :  ['+', '-', '+', '+']\n",
      "feature list     :  ['rp_B', 'rs_B', 'rp_A']\n",
      "rmse:  0.130407110745 r2 score:  0.9059709806767483 class accuracy:  95.1219512195122\n",
      "[-0.74, 0.61] 0.118674578144 0.9233674232886652 92.6829268292683\n",
      "[-0.74, 0.61] 0.118674578144 0.9233674232886652 92.6829268292683\n",
      "[-0.74, 0.61] 0.118674578144 0.9233674232886652 92.6829268292683\n",
      "[-0.74, 0.61] 0.118674578144 0.9233674232886652 92.6829268292683\n",
      "[-0.74, 0.61] 0.118674578144 0.9233674232886652 92.6829268292683\n",
      "------------------------------------ 49643\n",
      "origional eqution:  (sqrt(fabs(IP_B)) + sqrt(fabs(EA_A)))/((rp_A**2))\n",
      "operation list   :  ['sqrt', 'sqrt', 2, 1]\n",
      "sign list        :  ['+', '+', '+', '+']\n",
      "feature list     :  ['IP_B', 'EA_A', 'rp_A']\n",
      "rmse:  0.130912728835 r2 score:  0.9051711453487152 class accuracy:  90.2439024390244\n",
      "[-0.86, -0.63] 0.130402204709 0.9059787206409115 91.46341463414635\n",
      "[-0.86, -0.63] 0.130402204709 0.9059787206409115 91.46341463414635\n",
      "[-0.86, -0.63] 0.130402204709 0.9059787206409115 91.46341463414635\n",
      "[-0.86, -0.63] 0.130402204709 0.9059787206409115 91.46341463414635\n",
      "[-0.86, -0.63] 0.130402204709 0.9059787206409115 91.46341463414635\n",
      "------------------------------------ 49643\n"
     ]
    }
   ],
   "source": [
    "new_equation_list = []\n",
    "old_rmse, old_r2, old_cls   =[],[],[]\n",
    "new_rmse, new_r2, new_cls   =[],[],[]\n",
    "coeff_list                  =[]\n",
    "min_slops, min_intercepts   =[],[]\n",
    "r2_scores, cls_acss         =[],[]\n",
    "regression = 'On'\n",
    "rounding   = 12\n",
    "target_property = 'r2_score' # 'RMSE' or 'classification_accuracy'\n",
    "\n",
    "actute_species = ['RS' if i < 0 else 'ZB' for i in dataset_test.DE]\n",
    "def target_func(pred, actu):\n",
    "    rmse = np.round(np.sqrt(mean_squared_error(pred, actu)),rounding)\n",
    "    r2 = r2_score(pred, dataset_test.DE)\n",
    "    pred_species = ['RS' if i < 0 else 'ZB' for i in pred]\n",
    "    quant_res    = ([i for i, j in zip(actute_species, pred_species) if i == j])\n",
    "    cls_acs      = (len(quant_res)*100/82)\n",
    "    return rmse, r2, cls_acs\n",
    "        \n",
    "for equation in all_equations[:10]:#+all_equations[4:7]+all_equations[8:9]:\n",
    "    slops, intercepts = [],[]\n",
    "    equation = equation.replace('HOMOKS','HOMO')\n",
    "    equation = equation.replace('LUMOKS','LUMO')\n",
    "    eq_obj = formula_reader.equation_reader(equation_string=equation, \n",
    "                                            dataset=dataset_test)\n",
    "    feature_array = np.array(eq_obj.run_equation_reader())\n",
    "    feature_array = np.reshape(feature_array,(-1,1))\n",
    "    a,b,c = eq_obj.get_individual_element()\n",
    "    formula = eq_obj.get_formula()\n",
    "    new_equation_list.append(formula)\n",
    "    actu = dataset_test['DE'].values\n",
    "\n",
    "    regressor = LinearRegression()\n",
    "    regressor.fit(feature_array, actu)\n",
    "    \n",
    "    pred = regressor.predict(np.array(feature_array))\n",
    "    rmse, r2, cls_acs = target_func(pred=pred, actu=actu)\n",
    "    old_rmse.append(target_func(pred=pred, actu=actu)[0])\n",
    "    old_r2.append(target_func(pred=pred, actu=actu)[1])\n",
    "    old_cls.append(target_func(pred=pred, actu=actu)[2])\n",
    "    print('rmse: ',old_rmse[-1], 'r2 score: ', old_r2[-1], 'class accuracy: ',old_cls[-1])\n",
    "    coeff = regressor.coef_\n",
    "    intercept = regressor.intercept_\n",
    "    \n",
    "    temp_rmse, value_lst, temp_r2, temp_cls_acs = [],[],[],[]\n",
    "    for ii in np.arange(-1.1,1.1,0.01):\n",
    "        for jj in np.arange(-1.1,1.1,0.01):\n",
    "                if np.round(ii,4)==0. or np.round(jj,4)==0.:\n",
    "                    pass\n",
    "                else:\n",
    "                    x = (np.round(ii,4)*a + np.round(jj,4)*b)/(c)\n",
    "                    if regression == 'On':\n",
    "                        regressor = LinearRegression()\n",
    "                        regressor.fit(np.array(x).reshape(-1,1), dataset_test.DE.values)\n",
    "                        pred = regressor.predict(np.array(x).reshape(-1,1))\n",
    "                        rmse, r2, cls_acs = target_func(pred=pred, actu=actu)\n",
    "                        temp_rmse.append(rmse)\n",
    "                        temp_r2.append(r2)\n",
    "                        temp_cls_acs.append(cls_acs)\n",
    "                        value_lst.append([np.round(ii,4), np.round(jj,4)])\n",
    "                        slops.append(regressor.coef_)\n",
    "                        intercepts.append(regressor.intercept_)\n",
    "                    else:\n",
    "                        pred = (coeff*x)+intercept\n",
    "                        rmse, r2, cls_acs = target_func(pred=pred, actu=actu)\n",
    "                        temp_rmse.append(rmse)\n",
    "                        temp_r2.append(r2)\n",
    "                        temp_cls_acs.append(cls_acs)\n",
    "                        value_lst.append([np.round(ii,4), np.round(jj,4)])\n",
    "    \n",
    "    if target_property == 'RMSE':\n",
    "        args = np.argmin(temp_rmse)\n",
    "    \n",
    "    elif target_property == 'classification_accuracy':\n",
    "        args = np.argmax(temp_cls_acs)\n",
    "        \n",
    "    elif target_property == 'r2_score':\n",
    "        args = np.argmax(temp_r2)\n",
    "    \n",
    "    print(value_lst[args], temp_rmse[args], temp_r2[args], temp_cls_acs[args])\n",
    "    diff=  [0.1,0.01,0.001,0.0001]\n",
    "    interval = [0.01,0.001,0.0001,0.00001]\n",
    "    for ll in range(len(diff)):\n",
    "        range_lst = value_lst[args]\n",
    "        for ii in (np.arange(range_lst[0]-diff[ll],\n",
    "                             range_lst[0]+diff[ll],interval[ll])):\n",
    "            for jj in (np.arange(range_lst[1]-diff[ll], \n",
    "                                 range_lst[1]+diff[ll],interval[ll])):\n",
    "                    if np.round(ii,4)==0. or np.round(jj,4)==0.:\n",
    "                        pass\n",
    "                    else:\n",
    "                        x = (np.round(ii,4)*a + np.round(jj,4)*b)/(c)\n",
    "                        if regression == 'On':\n",
    "                            regressor = LinearRegression()\n",
    "                            regressor.fit(np.array(x).reshape(-1,1), dataset_test.DE.values)\n",
    "                            pred = regressor.predict(np.array(x).reshape(-1,1))\n",
    "                            rmse, r2, cls_acs = target_func(pred=pred, actu=actu)\n",
    "                            temp_rmse.append(rmse)\n",
    "                            temp_r2.append(r2)\n",
    "                            temp_cls_acs.append(cls_acs)\n",
    "                            value_lst.append([np.round(ii,4), np.round(jj,4)])\n",
    "                            slops.append(regressor.coef_)\n",
    "                            intercepts.append(regressor.intercept_)\n",
    "                        else:                            \n",
    "                            pred = (coeff*x)+intercept\n",
    "                            rmse, r2, cls_acs = target_func(pred=pred, actu=actu)\n",
    "                            temp_rmse.append(rmse)\n",
    "                            temp_r2.append(r2)\n",
    "                            temp_cls_acs.append(cls_acs)\n",
    "                            value_lst.append([np.round(ii,4), np.round(jj,4)])\n",
    "        print(value_lst[args], temp_rmse[args], temp_r2[args], temp_cls_acs[args])    \n",
    "    \n",
    "    print('------------------------------------',len(temp_rmse))\n",
    "    \n",
    "    new_rmse.append(temp_rmse[args])\n",
    "    new_r2.append(temp_r2[args])\n",
    "    new_cls.append(temp_cls_acs[args])\n",
    "    coeff_list.append(value_lst[args])\n",
    "    min_slops.append(slops[args])\n",
    "    min_intercepts.append(intercepts[args])"
   ]
  },
  {
   "cell_type": "code",
   "execution_count": 9,
   "metadata": {
    "ExecuteTime": {
     "end_time": "2022-03-19T11:40:54.687251Z",
     "start_time": "2022-03-19T11:40:54.673711Z"
    }
   },
   "outputs": [],
   "source": [
    "df = pd.DataFrame()\n",
    "df['Equations'] = new_equation_list\n",
    "df['old_rmse_for_full_dataset']=old_rmse\n",
    "df['new_rmse']=new_rmse\n",
    "df['old_r2'] = old_r2\n",
    "df['new_r2'] = new_r2\n",
    "df['old_class_accuracy']= old_cls\n",
    "df['new_class_accuracy']= new_cls\n",
    "df['individual_coeff'] = coeff_list\n",
    "df['slops'] = [round(num[0], 3) for num in min_slops]\n",
    "df['intecepts'] = min_intercepts\n",
    "#df['classification accuracy'] = temp"
   ]
  },
  {
   "cell_type": "code",
   "execution_count": 10,
   "metadata": {
    "ExecuteTime": {
     "end_time": "2022-03-19T11:40:54.695468Z",
     "start_time": "2022-03-19T11:40:54.689018Z"
    }
   },
   "outputs": [],
   "source": [
    "#df.to_excel('optimization_using_r2_score.xlsx')"
   ]
  },
  {
   "cell_type": "code",
   "execution_count": 11,
   "metadata": {
    "ExecuteTime": {
     "end_time": "2022-03-19T11:40:54.704802Z",
     "start_time": "2022-03-19T11:40:54.696858Z"
    }
   },
   "outputs": [],
   "source": [
    "test_func = 0.633*(-0.85*dataset_test['rp_B'].values**2+1.09*np.exp(dataset_test['rs_B'].values))/dataset_test['rp_A'].values**2  -0.341319"
   ]
  },
  {
   "cell_type": "code",
   "execution_count": 12,
   "metadata": {
    "ExecuteTime": {
     "end_time": "2022-03-19T11:40:54.714295Z",
     "start_time": "2022-03-19T11:40:54.706420Z"
    }
   },
   "outputs": [],
   "source": [
    "pred_species = ['RS' if i < 0 else 'ZB' for i in test_func]\n",
    "quant_res    = ([i for i, j in zip(actute_species, pred_species) if i == j])"
   ]
  },
  {
   "cell_type": "code",
   "execution_count": 13,
   "metadata": {
    "ExecuteTime": {
     "end_time": "2022-03-19T11:40:54.721607Z",
     "start_time": "2022-03-19T11:40:54.716542Z"
    }
   },
   "outputs": [
    {
     "data": {
      "text/plain": [
       "['(sqrt(fabs(EA_A)) + sqrt(fabs(IP_B)))/((rp_A**2))',\n",
       " '(sqrt(fabs(EA_A)) + sqrt(fabs(IP_B)))/((rp_A**2))',\n",
       " '(sqrt(fabs(IP_B)) + exp(EA_B))/((rp_A**2))',\n",
       " '(sqrt(fabs(HOMOKS_B)) + sqrt(fabs(LUMOKS_B)))/((rp_A**2))',\n",
       " '(sqrt(fabs(EA_B)) - sqrt(fabs(IP_B)))/((rp_A**2))',\n",
       " '(sqrt(fabs(IP_B)) + exp(IP_A))/((rp_A**2))',\n",
       " '(sqrt(fabs(IP_B)) - exp(IP_B))/((rp_A**2))',\n",
       " '(sqrt(fabs(IP_B)) + exp(IP_B))/((rp_A**2))',\n",
       " '(sqrt(fabs(IP_B)) - exp(IP_A))/((rp_A**2))',\n",
       " '(IP_A + IP_B)/((rp_A**2))',\n",
       " '(IP_B - sqrt(fabs(IP_A)))/((rp_A**2))']"
      ]
     },
     "execution_count": 13,
     "metadata": {},
     "output_type": "execute_result"
    }
   ],
   "source": [
    "all_equations[10:21]"
   ]
  },
  {
   "cell_type": "code",
   "execution_count": 14,
   "metadata": {
    "ExecuteTime": {
     "end_time": "2022-03-19T11:40:54.745673Z",
     "start_time": "2022-03-19T11:40:54.726134Z"
    }
   },
   "outputs": [
    {
     "data": {
      "text/html": [
       "<div>\n",
       "<style scoped>\n",
       "    .dataframe tbody tr th:only-of-type {\n",
       "        vertical-align: middle;\n",
       "    }\n",
       "\n",
       "    .dataframe tbody tr th {\n",
       "        vertical-align: top;\n",
       "    }\n",
       "\n",
       "    .dataframe thead th {\n",
       "        text-align: right;\n",
       "    }\n",
       "</style>\n",
       "<table border=\"1\" class=\"dataframe\">\n",
       "  <thead>\n",
       "    <tr style=\"text-align: right;\">\n",
       "      <th></th>\n",
       "      <th>Equations</th>\n",
       "      <th>old_rmse_for_full_dataset</th>\n",
       "      <th>new_rmse</th>\n",
       "      <th>old_r2</th>\n",
       "      <th>new_r2</th>\n",
       "      <th>old_class_accuracy</th>\n",
       "      <th>new_class_accuracy</th>\n",
       "      <th>individual_coeff</th>\n",
       "      <th>slops</th>\n",
       "      <th>intecepts</th>\n",
       "    </tr>\n",
       "  </thead>\n",
       "  <tbody>\n",
       "    <tr>\n",
       "      <th>0</th>\n",
       "      <td>((EA_B - IP_B)/rp_A**2)</td>\n",
       "      <td>0.142253</td>\n",
       "      <td>0.142068</td>\n",
       "      <td>0.886078</td>\n",
       "      <td>0.886408</td>\n",
       "      <td>89.024390</td>\n",
       "      <td>89.024390</td>\n",
       "      <td>[-0.78, 0.94]</td>\n",
       "      <td>-0.122</td>\n",
       "      <td>-0.350042</td>\n",
       "    </tr>\n",
       "    <tr>\n",
       "      <th>1</th>\n",
       "      <td>(rp_B**3 - exp(rs_B))/((rp_A**2))</td>\n",
       "      <td>0.119259</td>\n",
       "      <td>0.117949</td>\n",
       "      <td>0.922552</td>\n",
       "      <td>0.924373</td>\n",
       "      <td>91.463415</td>\n",
       "      <td>91.463415</td>\n",
       "      <td>[-1.0, 1.06]</td>\n",
       "      <td>0.697</td>\n",
       "      <td>-0.325150</td>\n",
       "    </tr>\n",
       "    <tr>\n",
       "      <th>2</th>\n",
       "      <td>(rp_B - exp(rp_A))/((rp_A**3))</td>\n",
       "      <td>0.125963</td>\n",
       "      <td>0.125963</td>\n",
       "      <td>0.912819</td>\n",
       "      <td>0.912820</td>\n",
       "      <td>90.243902</td>\n",
       "      <td>90.243902</td>\n",
       "      <td>[-1.1, 1.09]</td>\n",
       "      <td>0.662</td>\n",
       "      <td>-0.666403</td>\n",
       "    </tr>\n",
       "    <tr>\n",
       "      <th>3</th>\n",
       "      <td>(rp_B**3 - exp(rs_B))/((rs_A**3))</td>\n",
       "      <td>0.126580</td>\n",
       "      <td>0.125618</td>\n",
       "      <td>0.911888</td>\n",
       "      <td>0.913337</td>\n",
       "      <td>86.585366</td>\n",
       "      <td>89.024390</td>\n",
       "      <td>[-0.74, 0.78]</td>\n",
       "      <td>0.631</td>\n",
       "      <td>-0.299895</td>\n",
       "    </tr>\n",
       "    <tr>\n",
       "      <th>4</th>\n",
       "      <td>(sqrt(fabs(rp_B)) - exp(rp_A))/((rp_A**3))</td>\n",
       "      <td>0.127083</td>\n",
       "      <td>0.114328</td>\n",
       "      <td>0.911125</td>\n",
       "      <td>0.929267</td>\n",
       "      <td>91.463415</td>\n",
       "      <td>90.243902</td>\n",
       "      <td>[-1.04, 0.78]</td>\n",
       "      <td>1.458</td>\n",
       "      <td>-0.972615</td>\n",
       "    </tr>\n",
       "    <tr>\n",
       "      <th>5</th>\n",
       "      <td>(rs_B**2 - exp(rp_A))/((rp_A**3))</td>\n",
       "      <td>0.129892</td>\n",
       "      <td>0.127906</td>\n",
       "      <td>0.906781</td>\n",
       "      <td>0.909865</td>\n",
       "      <td>91.463415</td>\n",
       "      <td>92.682927</td>\n",
       "      <td>[-1.01, 0.85]</td>\n",
       "      <td>0.746</td>\n",
       "      <td>-0.606334</td>\n",
       "    </tr>\n",
       "    <tr>\n",
       "      <th>6</th>\n",
       "      <td>(sqrt(fabs(rd_B)) - exp(rp_A))/((rp_A**3))</td>\n",
       "      <td>0.129955</td>\n",
       "      <td>0.129465</td>\n",
       "      <td>0.906683</td>\n",
       "      <td>0.907450</td>\n",
       "      <td>93.902439</td>\n",
       "      <td>93.902439</td>\n",
       "      <td>[-0.63, 0.61]</td>\n",
       "      <td>2.665</td>\n",
       "      <td>-1.332577</td>\n",
       "    </tr>\n",
       "    <tr>\n",
       "      <th>7</th>\n",
       "      <td>(rs_B - exp(rp_A))/((rp_A**3))</td>\n",
       "      <td>0.130404</td>\n",
       "      <td>0.118721</td>\n",
       "      <td>0.905976</td>\n",
       "      <td>0.923303</td>\n",
       "      <td>91.463415</td>\n",
       "      <td>90.243902</td>\n",
       "      <td>[-1.03, 0.73]</td>\n",
       "      <td>1.277</td>\n",
       "      <td>-0.826923</td>\n",
       "    </tr>\n",
       "    <tr>\n",
       "      <th>8</th>\n",
       "      <td>(rp_B**2 - exp(rs_B))/((rp_A**2))</td>\n",
       "      <td>0.130407</td>\n",
       "      <td>0.118675</td>\n",
       "      <td>0.905971</td>\n",
       "      <td>0.923367</td>\n",
       "      <td>95.121951</td>\n",
       "      <td>92.682927</td>\n",
       "      <td>[-0.74, 0.61]</td>\n",
       "      <td>1.423</td>\n",
       "      <td>-0.322918</td>\n",
       "    </tr>\n",
       "    <tr>\n",
       "      <th>9</th>\n",
       "      <td>(sqrt(fabs(IP_B)) + sqrt(fabs(EA_A)))/((rp_A**2))</td>\n",
       "      <td>0.130913</td>\n",
       "      <td>0.130402</td>\n",
       "      <td>0.905171</td>\n",
       "      <td>0.905979</td>\n",
       "      <td>90.243902</td>\n",
       "      <td>91.463415</td>\n",
       "      <td>[-0.86, -0.63]</td>\n",
       "      <td>-0.348</td>\n",
       "      <td>-0.386341</td>\n",
       "    </tr>\n",
       "  </tbody>\n",
       "</table>\n",
       "</div>"
      ],
      "text/plain": [
       "                                           Equations  \\\n",
       "0                            ((EA_B - IP_B)/rp_A**2)   \n",
       "1                  (rp_B**3 - exp(rs_B))/((rp_A**2))   \n",
       "2                     (rp_B - exp(rp_A))/((rp_A**3))   \n",
       "3                  (rp_B**3 - exp(rs_B))/((rs_A**3))   \n",
       "4         (sqrt(fabs(rp_B)) - exp(rp_A))/((rp_A**3))   \n",
       "5                  (rs_B**2 - exp(rp_A))/((rp_A**3))   \n",
       "6         (sqrt(fabs(rd_B)) - exp(rp_A))/((rp_A**3))   \n",
       "7                     (rs_B - exp(rp_A))/((rp_A**3))   \n",
       "8                  (rp_B**2 - exp(rs_B))/((rp_A**2))   \n",
       "9  (sqrt(fabs(IP_B)) + sqrt(fabs(EA_A)))/((rp_A**2))   \n",
       "\n",
       "   old_rmse_for_full_dataset  new_rmse    old_r2    new_r2  \\\n",
       "0                   0.142253  0.142068  0.886078  0.886408   \n",
       "1                   0.119259  0.117949  0.922552  0.924373   \n",
       "2                   0.125963  0.125963  0.912819  0.912820   \n",
       "3                   0.126580  0.125618  0.911888  0.913337   \n",
       "4                   0.127083  0.114328  0.911125  0.929267   \n",
       "5                   0.129892  0.127906  0.906781  0.909865   \n",
       "6                   0.129955  0.129465  0.906683  0.907450   \n",
       "7                   0.130404  0.118721  0.905976  0.923303   \n",
       "8                   0.130407  0.118675  0.905971  0.923367   \n",
       "9                   0.130913  0.130402  0.905171  0.905979   \n",
       "\n",
       "   old_class_accuracy  new_class_accuracy individual_coeff  slops  intecepts  \n",
       "0           89.024390           89.024390    [-0.78, 0.94] -0.122  -0.350042  \n",
       "1           91.463415           91.463415     [-1.0, 1.06]  0.697  -0.325150  \n",
       "2           90.243902           90.243902     [-1.1, 1.09]  0.662  -0.666403  \n",
       "3           86.585366           89.024390    [-0.74, 0.78]  0.631  -0.299895  \n",
       "4           91.463415           90.243902    [-1.04, 0.78]  1.458  -0.972615  \n",
       "5           91.463415           92.682927    [-1.01, 0.85]  0.746  -0.606334  \n",
       "6           93.902439           93.902439    [-0.63, 0.61]  2.665  -1.332577  \n",
       "7           91.463415           90.243902    [-1.03, 0.73]  1.277  -0.826923  \n",
       "8           95.121951           92.682927    [-0.74, 0.61]  1.423  -0.322918  \n",
       "9           90.243902           91.463415   [-0.86, -0.63] -0.348  -0.386341  "
      ]
     },
     "execution_count": 14,
     "metadata": {},
     "output_type": "execute_result"
    }
   ],
   "source": [
    "df"
   ]
  },
  {
   "cell_type": "code",
   "execution_count": null,
   "metadata": {},
   "outputs": [],
   "source": []
  }
 ],
 "metadata": {
  "kernelspec": {
   "display_name": "Python 3",
   "language": "python",
   "name": "python3"
  },
  "language_info": {
   "codemirror_mode": {
    "name": "ipython",
    "version": 3
   },
   "file_extension": ".py",
   "mimetype": "text/x-python",
   "name": "python",
   "nbconvert_exporter": "python",
   "pygments_lexer": "ipython3",
   "version": "3.7.6"
  },
  "toc": {
   "base_numbering": 1,
   "nav_menu": {},
   "number_sections": true,
   "sideBar": true,
   "skip_h1_title": false,
   "title_cell": "Table of Contents",
   "title_sidebar": "Contents",
   "toc_cell": false,
   "toc_position": {},
   "toc_section_display": true,
   "toc_window_display": false
  }
 },
 "nbformat": 4,
 "nbformat_minor": 4
}

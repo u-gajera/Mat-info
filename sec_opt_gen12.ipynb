{
 "cells": [
  {
   "cell_type": "code",
   "execution_count": null,
   "metadata": {
    "ExecuteTime": {
     "end_time": "2022-03-19T11:20:03.143522Z",
     "start_time": "2022-03-19T11:20:02.259919Z"
    }
   },
   "outputs": [],
   "source": [
    "import numpy as np\n",
    "import pandas as pd\n",
    "import re\n",
    "from collections import Counter\n",
    "import matplotlib.pylab as plt\n",
    "from sklearn.linear_model import LinearRegression\n",
    "from sklearn.metrics import mean_squared_error, r2_score\n",
    "import os\n",
    "import formula_reader"
   ]
  },
  {
   "cell_type": "code",
   "execution_count": null,
   "metadata": {
    "ExecuteTime": {
     "end_time": "2022-03-19T11:20:03.156439Z",
     "start_time": "2022-03-19T11:20:03.149816Z"
    }
   },
   "outputs": [],
   "source": [
    "def cleaning_the_dataset(dataset_material):\n",
    "    for ii in dataset_material.keys():\n",
    "        if (ii.find('Unnamed') != -1):\n",
    "            del dataset_material[ii]\n",
    "        elif list(set(pd.isnull(dataset_material[ii].values)))[0]==True:\n",
    "            del dataset_material[ii]\n",
    "        else:\n",
    "            pass"
   ]
  },
  {
   "cell_type": "code",
   "execution_count": null,
   "metadata": {
    "ExecuteTime": {
     "end_time": "2022-03-19T11:20:03.273474Z",
     "start_time": "2022-03-19T11:20:03.159077Z"
    }
   },
   "outputs": [],
   "source": [
    "dataset_material = pd.read_excel('Data_Ghiringhelli.xlsx', 'Material Data')\n",
    "dataset_atomic = pd.read_excel('Data_Ghiringhelli.xlsx',   'Atomic Data')\n",
    "dataset_atomic.columns = ['Z', 'A', 'IP', 'EA', 'HOMO', 'LUMO', 'rs', 'rp', 'rd', '1D']\n",
    "dataset_test = pd.read_csv('dataset_test.csv')\n",
    "dataset_test_new = pd.read_csv('dataset_test_new.csv')"
   ]
  },
  {
   "cell_type": "code",
   "execution_count": null,
   "metadata": {
    "ExecuteTime": {
     "end_time": "2022-03-19T11:20:03.283344Z",
     "start_time": "2022-03-19T11:20:03.274940Z"
    }
   },
   "outputs": [],
   "source": [
    "cleaning_the_dataset(dataset_atomic)\n",
    "cleaning_the_dataset(dataset_material)"
   ]
  },
  {
   "cell_type": "code",
   "execution_count": null,
   "metadata": {
    "ExecuteTime": {
     "end_time": "2022-03-19T11:20:03.294788Z",
     "start_time": "2022-03-19T11:20:03.286114Z"
    }
   },
   "outputs": [],
   "source": [
    "column_name = formula_reader.columns_name(dataset_atomic_columns=dataset_atomic.keys()[2:-1], \n",
    "                           num_of_element=['A','B'])"
   ]
  },
  {
   "cell_type": "code",
   "execution_count": null,
   "metadata": {
    "ExecuteTime": {
     "end_time": "2022-03-19T11:20:03.308746Z",
     "start_time": "2022-03-19T11:20:03.300382Z"
    }
   },
   "outputs": [],
   "source": [
    "equation_list = ['(rp_B**3 - exp(rs_B))/((rp_A**2))', \n",
    "                 '(sqrt(fabs(EA_A))+sqrt(fabs(IP_B)))/((rp_A**2))']"
   ]
  },
  {
   "cell_type": "code",
   "execution_count": null,
   "metadata": {
    "ExecuteTime": {
     "end_time": "2022-03-19T11:20:03.330842Z",
     "start_time": "2022-03-19T11:20:03.310788Z"
    }
   },
   "outputs": [],
   "source": [
    "df_form = pd.read_excel('Final wrap up.xlsx', sheet_name='ZincBlend 1D')\n",
    "\n",
    "all_num,all_equations,all_avg_mse = [],[],[]\n",
    "for str_lst in df_form['OAD_gen_1 RMSE']:\n",
    "    try :\n",
    "        lindex = str_lst.index('(')\n",
    "        rindex = str_lst.rindex(')')\n",
    "        equation=str_lst[lindex:rindex+1]\n",
    "        all_equations.append(equation)\n",
    "    except:\n",
    "        pass"
   ]
  },
  {
   "cell_type": "code",
   "execution_count": null,
   "metadata": {
    "ExecuteTime": {
     "end_time": "2022-03-19T11:40:54.672042Z",
     "start_time": "2022-03-19T11:20:03.335621Z"
    },
    "scrolled": true
   },
   "outputs": [],
   "source": [
    "new_equation_list = []\n",
    "old_rmse, old_r2, old_cls   =[],[],[]\n",
    "new_rmse, new_r2, new_cls   =[],[],[]\n",
    "coeff_list                  =[]\n",
    "min_slops, min_intercepts   =[],[]\n",
    "r2_scores, cls_acss         =[],[]\n",
    "regression = 'On'\n",
    "rounding   = 12\n",
    "target_property = 'r2_score' # 'RMSE' or 'classification_accuracy'\n",
    "\n",
    "actute_species = ['RS' if i < 0 else 'ZB' for i in dataset_test.DE]\n",
    "def target_func(pred, actu):\n",
    "    rmse = np.round(np.sqrt(mean_squared_error(pred, actu)),rounding)\n",
    "    r2 = r2_score(pred, dataset_test.DE)\n",
    "    pred_species = ['RS' if i < 0 else 'ZB' for i in pred]\n",
    "    quant_res    = ([i for i, j in zip(actute_species, pred_species) if i == j])\n",
    "    cls_acs      = (len(quant_res)*100/82)\n",
    "    return rmse, r2, cls_acs\n",
    "        \n",
    "for equation in all_equations[:10]:#+all_equations[4:7]+all_equations[8:9]:\n",
    "    slops, intercepts = [],[]\n",
    "    equation = equation.replace('HOMOKS','HOMO')\n",
    "    equation = equation.replace('LUMOKS','LUMO')\n",
    "    eq_obj = formula_reader.equation_reader(equation_string=equation, \n",
    "                                            dataset=dataset_test)\n",
    "    feature_array = np.array(eq_obj.run_equation_reader())\n",
    "    feature_array = np.reshape(feature_array,(-1,1))\n",
    "    a,b,c = eq_obj.get_individual_element()\n",
    "    formula = eq_obj.get_formula()\n",
    "    new_equation_list.append(formula)\n",
    "    actu = dataset_test['DE'].values\n",
    "\n",
    "    regressor = LinearRegression()\n",
    "    regressor.fit(feature_array, actu)\n",
    "    \n",
    "    pred = regressor.predict(np.array(feature_array))\n",
    "    rmse, r2, cls_acs = target_func(pred=pred, actu=actu)\n",
    "    old_rmse.append(target_func(pred=pred, actu=actu)[0])\n",
    "    old_r2.append(target_func(pred=pred, actu=actu)[1])\n",
    "    old_cls.append(target_func(pred=pred, actu=actu)[2])\n",
    "    print('rmse: ',old_rmse[-1], 'r2 score: ', old_r2[-1], 'class accuracy: ',old_cls[-1])\n",
    "    coeff = regressor.coef_\n",
    "    intercept = regressor.intercept_\n",
    "    \n",
    "    temp_rmse, value_lst, temp_r2, temp_cls_acs = [],[],[],[]\n",
    "    for ii in np.arange(-1.1,1.1,0.01):\n",
    "        for jj in np.arange(-1.1,1.1,0.01):\n",
    "                if np.round(ii,4)==0. or np.round(jj,4)==0.:\n",
    "                    pass\n",
    "                else:\n",
    "                    x = (np.round(ii,4)*a + np.round(jj,4)*b)/(c)\n",
    "                    if regression == 'On':\n",
    "                        regressor = LinearRegression()\n",
    "                        regressor.fit(np.array(x).reshape(-1,1), dataset_test.DE.values)\n",
    "                        pred = regressor.predict(np.array(x).reshape(-1,1))\n",
    "                        rmse, r2, cls_acs = target_func(pred=pred, actu=actu)\n",
    "                        temp_rmse.append(rmse)\n",
    "                        temp_r2.append(r2)\n",
    "                        temp_cls_acs.append(cls_acs)\n",
    "                        value_lst.append([np.round(ii,4), np.round(jj,4)])\n",
    "                        slops.append(regressor.coef_)\n",
    "                        intercepts.append(regressor.intercept_)\n",
    "                    else:\n",
    "                        pred = (coeff*x)+intercept\n",
    "                        rmse, r2, cls_acs = target_func(pred=pred, actu=actu)\n",
    "                        temp_rmse.append(rmse)\n",
    "                        temp_r2.append(r2)\n",
    "                        temp_cls_acs.append(cls_acs)\n",
    "                        value_lst.append([np.round(ii,4), np.round(jj,4)])\n",
    "    \n",
    "    if target_property == 'RMSE':\n",
    "        args = np.argmin(temp_rmse)\n",
    "    \n",
    "    elif target_property == 'classification_accuracy':\n",
    "        args = np.argmax(temp_cls_acs)\n",
    "        \n",
    "    elif target_property == 'r2_score':\n",
    "        args = np.argmax(temp_r2)\n",
    "    \n",
    "    print(value_lst[args], temp_rmse[args], temp_r2[args], temp_cls_acs[args])\n",
    "    diff=  [0.1,0.01,0.001,0.0001]\n",
    "    interval = [0.01,0.001,0.0001,0.00001]\n",
    "    for ll in range(len(diff)):\n",
    "        range_lst = value_lst[args]\n",
    "        for ii in (np.arange(range_lst[0]-diff[ll],\n",
    "                             range_lst[0]+diff[ll],interval[ll])):\n",
    "            for jj in (np.arange(range_lst[1]-diff[ll], \n",
    "                                 range_lst[1]+diff[ll],interval[ll])):\n",
    "                    if np.round(ii,4)==0. or np.round(jj,4)==0.:\n",
    "                        pass\n",
    "                    else:\n",
    "                        x = (np.round(ii,4)*a + np.round(jj,4)*b)/(c)\n",
    "                        if regression == 'On':\n",
    "                            regressor = LinearRegression()\n",
    "                            regressor.fit(np.array(x).reshape(-1,1), dataset_test.DE.values)\n",
    "                            pred = regressor.predict(np.array(x).reshape(-1,1))\n",
    "                            rmse, r2, cls_acs = target_func(pred=pred, actu=actu)\n",
    "                            temp_rmse.append(rmse)\n",
    "                            temp_r2.append(r2)\n",
    "                            temp_cls_acs.append(cls_acs)\n",
    "                            value_lst.append([np.round(ii,4), np.round(jj,4)])\n",
    "                            slops.append(regressor.coef_)\n",
    "                            intercepts.append(regressor.intercept_)\n",
    "                        else:                            \n",
    "                            pred = (coeff*x)+intercept\n",
    "                            rmse, r2, cls_acs = target_func(pred=pred, actu=actu)\n",
    "                            temp_rmse.append(rmse)\n",
    "                            temp_r2.append(r2)\n",
    "                            temp_cls_acs.append(cls_acs)\n",
    "                            value_lst.append([np.round(ii,4), np.round(jj,4)])\n",
    "        print(value_lst[args], temp_rmse[args], temp_r2[args], temp_cls_acs[args])    \n",
    "    \n",
    "    print('------------------------------------',len(temp_rmse))\n",
    "    \n",
    "    new_rmse.append(temp_rmse[args])\n",
    "    new_r2.append(temp_r2[args])\n",
    "    new_cls.append(temp_cls_acs[args])\n",
    "    coeff_list.append(value_lst[args])\n",
    "    min_slops.append(slops[args])\n",
    "    min_intercepts.append(intercepts[args])"
   ]
  },
  {
   "cell_type": "code",
   "execution_count": null,
   "metadata": {
    "ExecuteTime": {
     "end_time": "2022-03-19T11:40:54.687251Z",
     "start_time": "2022-03-19T11:40:54.673711Z"
    }
   },
   "outputs": [],
   "source": [
    "df = pd.DataFrame()\n",
    "df['Equations'] = new_equation_list\n",
    "df['old_rmse_for_full_dataset']=old_rmse\n",
    "df['new_rmse']=new_rmse\n",
    "df['old_r2'] = old_r2\n",
    "df['new_r2'] = new_r2\n",
    "df['old_class_accuracy']= old_cls\n",
    "df['new_class_accuracy']= new_cls\n",
    "df['individual_coeff'] = coeff_list\n",
    "df['slops'] = [round(num[0], 3) for num in min_slops]\n",
    "df['intecepts'] = min_intercepts\n",
    "#df['classification accuracy'] = temp"
   ]
  },
  {
   "cell_type": "code",
   "execution_count": null,
   "metadata": {
    "ExecuteTime": {
     "end_time": "2022-03-19T11:42:10.483074Z",
     "start_time": "2022-03-19T11:42:10.436976Z"
    }
   },
   "outputs": [],
   "source": [
    "df.to_excel('optimization_using_r2_score.xlsx')"
   ]
  },
  {
   "cell_type": "code",
   "execution_count": null,
   "metadata": {
    "ExecuteTime": {
     "end_time": "2022-03-19T11:40:54.704802Z",
     "start_time": "2022-03-19T11:40:54.696858Z"
    }
   },
   "outputs": [],
   "source": [
    "test_func = 0.633*(-0.85*dataset_test['rp_B'].values**2+1.09*np.exp(dataset_test['rs_B'].values))/dataset_test['rp_A'].values**2  -0.341319"
   ]
  },
  {
   "cell_type": "code",
   "execution_count": null,
   "metadata": {
    "ExecuteTime": {
     "end_time": "2022-03-19T11:40:54.714295Z",
     "start_time": "2022-03-19T11:40:54.706420Z"
    }
   },
   "outputs": [],
   "source": [
    "pred_species = ['RS' if i < 0 else 'ZB' for i in test_func]\n",
    "quant_res    = ([i for i, j in zip(actute_species, pred_species) if i == j])"
   ]
  },
  {
   "cell_type": "code",
   "execution_count": null,
   "metadata": {},
   "outputs": [],
   "source": []
  }
 ],
 "metadata": {
  "kernelspec": {
   "display_name": "Python 3",
   "language": "python",
   "name": "python3"
  },
  "language_info": {
   "codemirror_mode": {
    "name": "ipython",
    "version": 3
   },
   "file_extension": ".py",
   "mimetype": "text/x-python",
   "name": "python",
   "nbconvert_exporter": "python",
   "pygments_lexer": "ipython3",
   "version": "3.7.6"
  },
  "toc": {
   "base_numbering": 1,
   "nav_menu": {},
   "number_sections": true,
   "sideBar": true,
   "skip_h1_title": false,
   "title_cell": "Table of Contents",
   "title_sidebar": "Contents",
   "toc_cell": false,
   "toc_position": {},
   "toc_section_display": true,
   "toc_window_display": false
  }
 },
 "nbformat": 4,
 "nbformat_minor": 4
}
